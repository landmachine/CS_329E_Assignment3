{
 "cells": [
  {
   "cell_type": "code",
   "execution_count": 31,
   "metadata": {},
   "outputs": [],
   "source": [
    "import re\n",
    "import collections\n",
    "\n",
    "original = open(\"metamorphosis.txt\", \"r\")\n",
    "allwords = open(\"allwords.txt\", \"a\")\n",
    "uniqwords = open(\"uniquewords.txt\", \"a\")\n",
    "wordfreq = open(\"wordfrequency.txt\", \"a\")\n",
    "\n",
    "for x in original:\n",
    "    x = x.lower()\n",
    "    x = re.sub(r'[^\\w\\s]','',x)\n",
    "    allwords.write(x)\n",
    "    \n",
    "allwords.close()\n",
    "\n",
    "allwords = open(\"allwords.txt\", \"r\")\n",
    "\n",
    "uniq = {}\n",
    "\n",
    "for x in allwords:\n",
    "    line = x.split()\n",
    "    for word in line:\n",
    "        if word not in uniq:\n",
    "            uniq[word] = 1\n",
    "        else:\n",
    "            uniq[word] += 1\n",
    "            \n",
    "            \n",
    "for k in uniq.keys():\n",
    "    uniqwords.write(k + \"\\n\")\n",
    "    \n",
    "uniqwords.close()\n",
    "\n",
    "freq = {}\n",
    "for v in uniq.values():\n",
    "    if v not in freq:\n",
    "        freq[v] = 1\n",
    "    else:\n",
    "        freq[v] += 1\n",
    "        \n",
    "\n",
    "        \n",
    "od = collections.OrderedDict(sorted(freq.items()))\n",
    "for k, v in od.items():\n",
    "    wordfreq.write(str(k) + \": \" + str(v) + \"\\n\")\n",
    "    \n",
    "wordfreq.close()"
   ]
  },
  {
   "cell_type": "code",
   "execution_count": null,
   "metadata": {},
   "outputs": [],
   "source": []
  }
 ],
 "metadata": {
  "kernelspec": {
   "display_name": "Python 3",
   "language": "python",
   "name": "python3"
  },
  "language_info": {
   "codemirror_mode": {
    "name": "ipython",
    "version": 3
   },
   "file_extension": ".py",
   "mimetype": "text/x-python",
   "name": "python",
   "nbconvert_exporter": "python",
   "pygments_lexer": "ipython3",
   "version": "3.7.1"
  }
 },
 "nbformat": 4,
 "nbformat_minor": 2
}
